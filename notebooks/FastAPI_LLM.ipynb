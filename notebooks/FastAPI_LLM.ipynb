{
 "cells": [
  {
   "metadata": {},
   "cell_type": "markdown",
   "source": "If you don't have gpu, execute this notebook on Google Colab!",
   "id": "a4a97855c17ae310"
  },
  {
   "cell_type": "code",
   "execution_count": null,
   "id": "initial_id",
   "metadata": {
    "collapsed": true
   },
   "outputs": [],
   "source": [
    "# !pip install datasets transformers bitsandbytes\n",
    "# !pip install -U openai opencv-python moviepy\n",
    "# !pip install peft\n",
    "# !pip install flask pyngrok"
   ]
  },
  {
   "metadata": {},
   "cell_type": "markdown",
   "source": "Get ngrok authentication token",
   "id": "6465fb7090bab49f"
  },
  {
   "metadata": {},
   "cell_type": "code",
   "outputs": [],
   "execution_count": null,
   "source": "!ngrok authtoken YOUR_TOKEN_HERE",
   "id": "8c17d304b4d1cd38"
  },
  {
   "metadata": {},
   "cell_type": "code",
   "outputs": [],
   "execution_count": null,
   "source": [
    "import os\n",
    "import torch\n",
    "from huggingface_hub.hf_api import HfFolder\n",
    "from transformers import AutoTokenizer, AutoModelForCausalLM, BitsAndBytesConfig, pipeline\n",
    "from flask import Flask, request, jsonify"
   ],
   "id": "5aa7dfd6b08abbed"
  },
  {
   "metadata": {},
   "cell_type": "code",
   "outputs": [],
   "execution_count": null,
   "source": "HfFolder.save_token('YOUR TOKEN HERE')",
   "id": "919120b621405318"
  },
  {
   "metadata": {},
   "cell_type": "markdown",
   "source": "Initialize and load model",
   "id": "5bc810710dc0a746"
  },
  {
   "metadata": {},
   "cell_type": "code",
   "outputs": [],
   "execution_count": null,
   "source": [
    "def initialize_model(base_model_id, bnb_config):\n",
    "    model = AutoModelForCausalLM.from_pretrained(\n",
    "        base_model_id,\n",
    "        quantization_config=bnb_config\n",
    "    )\n",
    "\n",
    "    tokenizer = AutoTokenizer.from_pretrained(\n",
    "        base_model_id,\n",
    "        add_bos_token=True\n",
    "    )\n",
    "\n",
    "    if tokenizer.pad_token is None:\n",
    "        tokenizer.add_special_tokens({'pad_token': '[PAD]'})\n",
    "\n",
    "    return model, tokenizer"
   ],
   "id": "63fadece91883e18"
  },
  {
   "metadata": {},
   "cell_type": "code",
   "outputs": [],
   "execution_count": null,
   "source": [
    "bnb_config = BitsAndBytesConfig(\n",
    "    load_in_4bit=True,\n",
    "    bnb_4bit_use_double_quant=True,\n",
    "    bnb_4bit_quant_type=\"nf4\",\n",
    "    bnb_4bit_compute_dtype=torch.bfloat16\n",
    ")\n",
    "\n",
    "base_model_id = \"mistralai/Mistral-7B-v0.1\"\n",
    "model, tokenizer = initialize_model(base_model_id, bnb_config)"
   ],
   "id": "286a31b25dff2517"
  },
  {
   "metadata": {},
   "cell_type": "markdown",
   "source": "Load Summarizer",
   "id": "f5dd3383e78a8636"
  },
  {
   "metadata": {},
   "cell_type": "code",
   "outputs": [],
   "execution_count": null,
   "source": [
    "# Load the summarization pipeline\n",
    "summarizer = pipeline(\"summarization\", model=\"facebook/bart-large-cnn\", device=0)\n",
    "\n",
    "\n",
    "def summarizer_func(article: str):\n",
    "    summary = summarizer(article, max_length=200, min_length=100, do_sample=False)\n",
    "\n",
    "    return summary[0][\"summary_text\"] + \"\\n\\n\""
   ],
   "id": "50125442112cca78"
  },
  {
   "metadata": {},
   "cell_type": "markdown",
   "source": "Create Flask endpoint",
   "id": "a894b1786944e219"
  },
  {
   "metadata": {},
   "cell_type": "code",
   "outputs": [],
   "execution_count": null,
   "source": [
    "from pyngrok import ngrok\n",
    "from flask import Flask, request, jsonify\n",
    "\n",
    "\n",
    "app = Flask(__name__)\n",
    "\n",
    "@app.route('/')\n",
    "def home():\n",
    "    return \"Hello, this is a test API.\"\n",
    "\n",
    "@app.route(\"/generate_response\", methods=['POST'])\n",
    "def generate_response():\n",
    "    data = request.json\n",
    "    prompt = data.get(\"prompt\", \"\")\n",
    "    max_new_tokens = data.get(\"max_new_tokens\", 100)\n",
    "    temperature = data.get(\"temperature\", 0.7)\n",
    "\n",
    "    model_input = tokenizer(prompt, return_tensors=\"pt\").to(\"cuda\")\n",
    "    model.eval()\n",
    "    with torch.no_grad():\n",
    "        generated_tokens = model.generate(\n",
    "            **model_input,\n",
    "            max_new_tokens=max_new_tokens,\n",
    "            repetition_penalty=1.15,\n",
    "            eos_token_id=tokenizer.eos_token_id,\n",
    "            temperature=temperature\n",
    "        )\n",
    "\n",
    "    generated_text = tokenizer.decode(generated_tokens[0], skip_special_tokens=True).strip()\n",
    "\n",
    "    # Extract the part of the text after \"Response\"\n",
    "    split_text = generated_text.split(\"Response\", 1)\n",
    "\n",
    "    if len(split_text) > 1:\n",
    "        return jsonify({\"response\": split_text[1].strip()})\n",
    "    else:\n",
    "        return jsonify({\"response\": generated_text.strip()})\n",
    "\n",
    "\n",
    "@app.route(\"/summarize_the_pdf\", methods=['POST'])\n",
    "def summarize_the_pdf():\n",
    "    data = request.json\n",
    "    prompt = data.get(\"prompt\", \"\")\n",
    "\n",
    "    response = summarizer_func(prompt)\n",
    "\n",
    "    return jsonify({\"response\": response})\n",
    "\n",
    "if __name__ == '__main__':\n",
    "    # Setup ngrok tunnel\n",
    "    public_url = ngrok.connect(5000)\n",
    "    print(\" * ngrok tunnel \\\"{}\\\" -> \\\"http://127.0.0.1:5000\\\"\".format(public_url))\n",
    "    app.run()"
   ],
   "id": "65c9777cebdc4c61"
  }
 ],
 "metadata": {
  "kernelspec": {
   "display_name": "Python 3",
   "language": "python",
   "name": "python3"
  },
  "language_info": {
   "codemirror_mode": {
    "name": "ipython",
    "version": 2
   },
   "file_extension": ".py",
   "mimetype": "text/x-python",
   "name": "python",
   "nbconvert_exporter": "python",
   "pygments_lexer": "ipython2",
   "version": "2.7.6"
  }
 },
 "nbformat": 4,
 "nbformat_minor": 5
}

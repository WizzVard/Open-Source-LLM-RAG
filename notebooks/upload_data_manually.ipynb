{
 "cells": [
  {
   "metadata": {
    "ExecuteTime": {
     "end_time": "2024-07-26T15:32:46.535310Z",
     "start_time": "2024-07-26T15:32:45.504124Z"
    }
   },
   "cell_type": "code",
   "source": [
    "import os\n",
    "from src.utils.prepare_vectordb import PrepareVectorDB\n",
    "from src.utils.load_config import LoadConfig"
   ],
   "id": "3141fe01a79171b4",
   "outputs": [],
   "execution_count": 1
  },
  {
   "metadata": {
    "ExecuteTime": {
     "end_time": "2024-07-26T15:32:46.565848Z",
     "start_time": "2024-07-26T15:32:46.537395Z"
    }
   },
   "cell_type": "code",
   "source": "CONFIG = LoadConfig()",
   "id": "3d433164e46514ee",
   "outputs": [
    {
     "name": "stdout",
     "output_type": "stream",
     "text": [
      "The directory 'C:\\Users\\WizzVard\\PycharmProjects\\RAG-GPT\\data\\docs' already exists.\n",
      "The directory 'C:\\Users\\WizzVard\\PycharmProjects\\RAG-GPT\\data\\vectordb\\processed\\chroma' already exists.\n",
      "The directory 'C:\\Users\\WizzVard\\PycharmProjects\\RAG-GPT\\data\\vectordb\\uploaded\\chroma' already exists.\n"
     ]
    }
   ],
   "execution_count": 2
  },
  {
   "metadata": {
    "ExecuteTime": {
     "end_time": "2024-07-26T15:32:46.581095Z",
     "start_time": "2024-07-26T15:32:46.567933Z"
    }
   },
   "cell_type": "code",
   "source": [
    "def upload_data_manually() -> None:\n",
    "    \"\"\"\n",
    "    Uploads data manually to the VectorDB.\n",
    "\n",
    "    This function initializes a PrepareVectorDB instance with configuration parameters\n",
    "    such as data_directory,  persist_directory, embedding_model_engine, chunk_size,\n",
    "    and chunk_overlap. It then checks if the VectorDB already exists in the specified\n",
    "    persist_directory. If not, it calls the prepare_and_save_vectordb method to\n",
    "    create and save the VectorDB. If the VectorDB already exists, a message is printed\n",
    "    indicating its presence.\n",
    "\n",
    "    :return: None\n",
    "    \"\"\"\n",
    "\n",
    "    prepare_vectordb_instance = PrepareVectorDB(\n",
    "        data_directory=CONFIG.data_directory,\n",
    "        persist_directory=CONFIG.persist_directory,\n",
    "        embedding_model_config=CONFIG.embedding_model_config,\n",
    "        chunk_size=CONFIG.chunk_size,\n",
    "        chunk_overlap=CONFIG.chunk_overlap,\n",
    "    )\n",
    "\n",
    "    if not os.path.exists(CONFIG.persist_directory) or not os.listdir(CONFIG.persist_directory):\n",
    "        prepare_vectordb_instance.prepare_and_save_vectordb()\n",
    "    else:\n",
    "        print(f\"VectorDB already exists in {CONFIG.persist_directory}\")\n",
    "    return None"
   ],
   "id": "5c7a8e24067118bd",
   "outputs": [],
   "execution_count": 3
  },
  {
   "metadata": {
    "ExecuteTime": {
     "end_time": "2024-07-26T15:32:52.776294Z",
     "start_time": "2024-07-26T15:32:46.583203Z"
    }
   },
   "cell_type": "code",
   "source": "upload_data_manually()",
   "id": "d161ebbdfb75466b",
   "outputs": [
    {
     "name": "stderr",
     "output_type": "stream",
     "text": [
      "C:\\Users\\WizzVard\\PycharmProjects\\Open_Source_LLM_RAG\\.venv\\lib\\site-packages\\langchain_core\\_api\\deprecation.py:139: LangChainDeprecationWarning: The class `HuggingFaceEmbeddings` was deprecated in LangChain 0.2.2 and will be removed in 0.3.0. An updated version of the class exists in the langchain-huggingface package and should be used instead. To use it run `pip install -U langchain-huggingface` and import as `from langchain_huggingface import HuggingFaceEmbeddings`.\n",
      "  warn_deprecated(\n",
      "C:\\Users\\WizzVard\\PycharmProjects\\Open_Source_LLM_RAG\\.venv\\lib\\site-packages\\transformers\\utils\\hub.py:127: FutureWarning: Using `TRANSFORMERS_CACHE` is deprecated and will be removed in v5 of Transformers. Use `HF_HOME` instead.\n",
      "  warnings.warn(\n"
     ]
    },
    {
     "name": "stdout",
     "output_type": "stream",
     "text": [
      "VectorDB already exists in C:\\Users\\WizzVard\\PycharmProjects\\RAG-GPT\\data\\vectordb\\processed\\chroma\n"
     ]
    }
   ],
   "execution_count": 4
  }
 ],
 "metadata": {
  "kernelspec": {
   "display_name": "Python 3",
   "language": "python",
   "name": "python3"
  },
  "language_info": {
   "codemirror_mode": {
    "name": "ipython",
    "version": 2
   },
   "file_extension": ".py",
   "mimetype": "text/x-python",
   "name": "python",
   "nbconvert_exporter": "python",
   "pygments_lexer": "ipython2",
   "version": "2.7.6"
  }
 },
 "nbformat": 4,
 "nbformat_minor": 5
}

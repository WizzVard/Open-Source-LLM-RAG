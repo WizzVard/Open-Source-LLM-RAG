{
 "cells": [
  {
   "cell_type": "code",
   "id": "initial_id",
   "metadata": {
    "collapsed": true,
    "ExecuteTime": {
     "end_time": "2024-07-26T15:04:52.079211Z",
     "start_time": "2024-07-26T15:04:51.967814Z"
    }
   },
   "source": "import requests",
   "outputs": [],
   "execution_count": 1
  },
  {
   "metadata": {
    "ExecuteTime": {
     "end_time": "2024-07-26T15:04:52.093833Z",
     "start_time": "2024-07-26T15:04:52.079211Z"
    }
   },
   "cell_type": "code",
   "source": "FLASK_APP_ENDPOINT = \"https://347f-34-125-132-210.ngrok-free.app/\"",
   "id": "c948dca129d67666",
   "outputs": [],
   "execution_count": 2
  },
  {
   "metadata": {
    "ExecuteTime": {
     "end_time": "2024-07-26T15:04:52.521632Z",
     "start_time": "2024-07-26T15:04:52.093833Z"
    }
   },
   "cell_type": "code",
   "source": [
    "response = requests.get(FLASK_APP_ENDPOINT)\n",
    "print(response.text)"
   ],
   "id": "977bed0914cd98ba",
   "outputs": [
    {
     "name": "stdout",
     "output_type": "stream",
     "text": [
      "Hello, this is a test API.\n"
     ]
    }
   ],
   "execution_count": 3
  }
 ],
 "metadata": {
  "kernelspec": {
   "display_name": "Python 3",
   "language": "python",
   "name": "python3"
  },
  "language_info": {
   "codemirror_mode": {
    "name": "ipython",
    "version": 2
   },
   "file_extension": ".py",
   "mimetype": "text/x-python",
   "name": "python",
   "nbconvert_exporter": "python",
   "pygments_lexer": "ipython2",
   "version": "2.7.6"
  }
 },
 "nbformat": 4,
 "nbformat_minor": 5
}
